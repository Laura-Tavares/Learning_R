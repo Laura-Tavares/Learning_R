{
 "cells": [
  {
   "cell_type": "code",
   "execution_count": 1,
   "id": "0ed00ff1-8a15-403c-ba39-6fa5e3ba40c9",
   "metadata": {
    "tags": []
   },
   "outputs": [],
   "source": [
    "# Summary\n"
   ]
  }
 ],
 "metadata": {
  "kernelspec": {
   "display_name": "R 4.2 (smallrna)",
   "language": "R",
   "name": "ir42"
  },
  "language_info": {
   "codemirror_mode": "r",
   "file_extension": ".r",
   "mimetype": "text/x-r-source",
   "name": "R",
   "pygments_lexer": "r",
   "version": "4.2.0"
  }
 },
 "nbformat": 4,
 "nbformat_minor": 5
}
