{
 "cells": [
  {
   "cell_type": "code",
   "execution_count": 9,
   "id": "afc014d9-9cad-4ae7-9d8f-7c29239b7e4f",
   "metadata": {
    "tags": []
   },
   "outputs": [
    {
     "name": "stdout",
     "output_type": "stream",
     "text": [
      "[1] \"Hello, World\"\n",
      "[1] \"character\"\n"
     ]
    }
   ],
   "source": [
    "### Learning how to print\n",
    "myString <- \"Hello, World\"\n",
    "print (myString)\n",
    "print (class(myString))"
   ]
  },
  {
   "cell_type": "markdown",
   "id": "d62f420d-536c-4b26-9a5b-8f6986e5d809",
   "metadata": {},
   "source": [
    "## Learning about data types\n",
    "- ### Logical\n",
    "- ### Numeric\n",
    "- ### Integer\n",
    "- ### Complex\n",
    "- ### Character\n",
    "- ### Raw"
   ]
  },
  {
   "cell_type": "code",
   "execution_count": 27,
   "id": "0fa9afb4-773f-49f5-8016-c2bdbba95c47",
   "metadata": {},
   "outputs": [
    {
     "name": "stdout",
     "output_type": "stream",
     "text": [
      "[1] \"logical\"\n",
      "[1] TRUE\n",
      "[1] \"logical\"\n"
     ]
    }
   ],
   "source": [
    "## Logical data type\n",
    "v  <- TRUE\n",
    "print (class(v))\n",
    "print (v)\n",
    "v  <- FALSE\n",
    "print (class(v))"
   ]
  },
  {
   "cell_type": "code",
   "execution_count": 26,
   "id": "ea0e37b1-784e-4c4e-852b-088f85c07789",
   "metadata": {},
   "outputs": [
    {
     "name": "stdout",
     "output_type": "stream",
     "text": [
      "[1] \"numeric\"\n"
     ]
    }
   ],
   "source": [
    "## Numeric data type\n",
    "v  <- 666.66\n",
    "print (class(v))"
   ]
  },
  {
   "cell_type": "code",
   "execution_count": 25,
   "id": "5c953183-293e-484f-99eb-d309decf9000",
   "metadata": {},
   "outputs": [
    {
     "name": "stdout",
     "output_type": "stream",
     "text": [
      "[1] \"integer\"\n"
     ]
    }
   ],
   "source": [
    "## Integer data type\n",
    "l  <- 6L\n",
    "print (class(l))"
   ]
  },
  {
   "cell_type": "code",
   "execution_count": 24,
   "id": "07a42547-f800-4024-a940-cf593bafeeea",
   "metadata": {},
   "outputs": [
    {
     "name": "stdout",
     "output_type": "stream",
     "text": [
      "[1] \"complex\"\n"
     ]
    }
   ],
   "source": [
    "## Complex data type\n",
    "l  <- 6i\n",
    "print (class(l))"
   ]
  },
  {
   "cell_type": "markdown",
   "id": "7da93ea9-9f0a-4353-95b9-1014fc187295",
   "metadata": {},
   "source": [
    "### Raw data type"
   ]
  },
  {
   "cell_type": "markdown",
   "id": "a785af64-308b-4ec5-a6e4-bdd9dd589f50",
   "metadata": {},
   "source": [
    "#### *Char/raw and raw/char convertion*\n",
    "**charToRaw()** - converts character data to raw data\n",
    "\n",
    "**rawToChar()** - converts raw data to character data"
   ]
  },
  {
   "cell_type": "code",
   "execution_count": 23,
   "id": "4c7e0c3a-4ab9-49b3-9118-515ca51b00f5",
   "metadata": {},
   "outputs": [
    {
     "name": "stdout",
     "output_type": "stream",
     "text": [
      "[1] 48 65 6c 6c 6f\n",
      "[1] \"raw\"\n"
     ]
    }
   ],
   "source": [
    "# Character -> Raw\n",
    "l  <- charToRaw (\"Hello\")\n",
    "print (l)\n",
    "print (class(l))"
   ]
  },
  {
   "cell_type": "code",
   "execution_count": 22,
   "id": "585a80b3-10e3-4418-a208-8edb82901a2a",
   "metadata": {},
   "outputs": [
    {
     "name": "stdout",
     "output_type": "stream",
     "text": [
      "[1] \"Hello\"\n",
      "[1] \"character\"\n"
     ]
    }
   ],
   "source": [
    "# Raw -> Character\n",
    "raw_variable <- charToRaw(\"Hello\")\n",
    "char_variable  <- rawToChar (raw_variable)\n",
    "print (char_variable)\n",
    "print (class(char_variable))"
   ]
  },
  {
   "cell_type": "code",
   "execution_count": 29,
   "id": "700c9630-7d0d-40ff-bc04-a51b7b360e1e",
   "metadata": {
    "tags": []
   },
   "outputs": [
    {
     "ename": "ERROR",
     "evalue": "Error in rawToChar(\"48 65 6c 6c 6f\"): argument 'x' must be a raw vector\n",
     "output_type": "error",
     "traceback": [
      "Error in rawToChar(\"48 65 6c 6c 6f\"): argument 'x' must be a raw vector\nTraceback:\n",
      "1. rawToChar(\"48 65 6c 6c 6f\")"
     ]
    }
   ],
   "source": [
    "L  <- rawToChar (\"48 65 6c 6c 6f\")\n",
    "print (L)"
   ]
  }
 ],
 "metadata": {
  "kernelspec": {
   "display_name": "R 4.2 (smallrna)",
   "language": "R",
   "name": "ir42"
  },
  "language_info": {
   "codemirror_mode": "r",
   "file_extension": ".r",
   "mimetype": "text/x-r-source",
   "name": "R",
   "pygments_lexer": "r",
   "version": "4.2.0"
  }
 },
 "nbformat": 4,
 "nbformat_minor": 5
}
