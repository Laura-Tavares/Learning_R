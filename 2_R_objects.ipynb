{
 "cells": [
  {
   "cell_type": "markdown",
   "id": "aef3d281-553c-4c78-af38-f385b2edcc17",
   "metadata": {},
   "source": [
    "# R objects\n",
    "- Vectors\n",
    "- Lists\n",
    "- Matrices\n",
    "- Arrays\n",
    "- Factors\n",
    "- Data Frames"
   ]
  },
  {
   "cell_type": "markdown",
   "id": "c60877f7-8f19-4c56-a33a-c8b7c4af74e8",
   "metadata": {},
   "source": [
    "## Vectors\n",
    "\n",
    "Types of atomic vectors: logical, integer, double, complex, character and raw.\n",
    "\n"
   ]
  },
  {
   "cell_type": "code",
   "execution_count": 1,
   "id": "7ad9e1f7-66e2-4d19-b566-913005068344",
   "metadata": {
    "tags": []
   },
   "outputs": [
    {
     "name": "stdout",
     "output_type": "stream",
     "text": [
      "[1] \"abc\"\n",
      "[1] 12.5\n",
      "[1] 63\n",
      "[1] TRUE\n",
      "[1] 2+3i\n",
      "[1] 68 65 6c 6c 6f\n"
     ]
    }
   ],
   "source": [
    "# Atomic vector of type character.\n",
    "print(\"abc\");\n",
    "\n",
    "# Atomic vector of type double.\n",
    "print(12.5)\n",
    "\n",
    "# Atomic vector of type integer.\n",
    "print(63L)\n",
    "\n",
    "# Atomic vector of type logical.\n",
    "print(TRUE)\n",
    "\n",
    "# Atomic vector of type complex.\n",
    "print(2+3i)\n",
    "\n",
    "# Atomic vector of type raw.\n",
    "print(charToRaw('hello'))"
   ]
  },
  {
   "cell_type": "markdown",
   "id": "f790c602-7071-49da-9c4f-06184345cc54",
   "metadata": {},
   "source": [
    "When you want to create vector with more than one element, you should use c() function which means to combine the elements into a vector."
   ]
  },
  {
   "cell_type": "code",
   "execution_count": 4,
   "id": "2968caa8-1ab4-4f60-ab41-832f5ec49f68",
   "metadata": {
    "tags": []
   },
   "outputs": [
    {
     "name": "stdout",
     "output_type": "stream",
     "text": [
      "[1] \"apolo\"   \"juno\"    \"jupiter\"\n",
      "[1] \"character\"\n"
     ]
    }
   ],
   "source": [
    "# Creating vector example 1\n",
    "deuses  <- c ('apolo', 'juno', 'jupiter')\n",
    "print (deuses)\n",
    "print (class(deuses))"
   ]
  },
  {
   "cell_type": "code",
   "execution_count": 7,
   "id": "a704e869-3ea5-4369-ab18-1589bf8dd981",
   "metadata": {
    "tags": []
   },
   "outputs": [
    {
     "name": "stdout",
     "output_type": "stream",
     "text": [
      "[1] 6+0i 0+5i\n",
      "[1] \"complex\"\n"
     ]
    }
   ],
   "source": [
    "# Creating vector example 2\n",
    "deuses  <- c ( 6, 5i)\n",
    "print (deuses)\n",
    "print (class(deuses))"
   ]
  },
  {
   "cell_type": "markdown",
   "id": "32d14f0d-e334-4862-b60f-bd095e30721a",
   "metadata": {},
   "source": [
    "## Lists\n",
    "Can contain many different types of elements inside it like vectors, functions and even another list inside it."
   ]
  },
  {
   "cell_type": "code",
   "execution_count": 11,
   "id": "c93ae65a-01d8-4d0c-b29e-1c067424a64d",
   "metadata": {
    "tags": []
   },
   "outputs": [
    {
     "name": "stdout",
     "output_type": "stream",
     "text": [
      "[[1]]\n",
      "[1] 6 2 9\n",
      "\n",
      "[[2]]\n",
      "[1] 6+1i\n",
      "\n",
      "[[3]]\n",
      "[[3]][[1]]\n",
      "[1] 0\n",
      "\n",
      "[[3]][[2]]\n",
      "[1] 7\n",
      "\n",
      "\n",
      "[[4]]\n",
      "function (x)  .Primitive(\"sin\")\n",
      "\n"
     ]
    }
   ],
   "source": [
    "# Example of list\n",
    "list1  <- list(c(6,2,9),6+1i,list(0,7),sin)\n",
    "print (list1)"
   ]
  },
  {
   "cell_type": "markdown",
   "id": "8c992e6d-1598-4f02-bd67-3a36c6c85d8f",
   "metadata": {},
   "source": [
    "## Matrix\n",
    "- Two-dimensional rectangular data set. \n",
    "- It can be created using a vector input to the matrix function.\n",
    "\n",
    "### **By row TRUE or FALSE values**\n",
    "\n",
    "**TRUE** - by default the matrix will be filled *row by row*\n",
    "\n",
    "**FALSE** - by default the matrix will be filled *column by column*"
   ]
  },
  {
   "cell_type": "code",
   "execution_count": 16,
   "id": "5ebe5263-a1e9-43ee-8e6a-80d46d11ba34",
   "metadata": {
    "tags": []
   },
   "outputs": [
    {
     "name": "stdout",
     "output_type": "stream",
     "text": [
      "     [,1] [,2] [,3]\n",
      "[1,] \"a\"  \"a\"  \"b\" \n",
      "[2,] \"c\"  \"b\"  \"a\" \n"
     ]
    }
   ],
   "source": [
    "# Example filled row by row\n",
    "M = matrix( c('a','a','b','c','b','a'), nrow = 2, ncol = 3, byrow = TRUE)\n",
    "print(M)"
   ]
  },
  {
   "cell_type": "code",
   "execution_count": 15,
   "id": "445689a4-cab0-4b9a-b369-d7c359031978",
   "metadata": {
    "tags": []
   },
   "outputs": [
    {
     "name": "stdout",
     "output_type": "stream",
     "text": [
      "     [,1] [,2] [,3]\n",
      "[1,] \"a\"  \"b\"  \"b\" \n",
      "[2,] \"a\"  \"c\"  \"a\" \n"
     ]
    }
   ],
   "source": [
    "# Example filled column by column\n",
    "M = matrix( c('a','a','b','c','b','a'), nrow = 2, ncol = 3, byrow = FALSE)\n",
    "print(M)"
   ]
  },
  {
   "cell_type": "code",
   "execution_count": null,
   "id": "8818db3f-ba4a-4318-80a3-cd15fe152591",
   "metadata": {},
   "outputs": [],
   "source": [
    "## Arrays\n",
    "HOMEWORK!!!!!"
   ]
  },
  {
   "cell_type": "code",
   "execution_count": null,
   "id": "02ff9610-fb56-4f96-aa22-9aa2db40e204",
   "metadata": {},
   "outputs": [],
   "source": [
    "# In the below example we create an array with two elements which are 3x3 matrices each"
   ]
  },
  {
   "cell_type": "markdown",
   "id": "6534e865-eb1a-4562-97c3-a4a6f64848ef",
   "metadata": {},
   "source": [
    "## Factors \n",
    "- Create a vector\n",
    "- Create a factor object\n",
    "- Print the factor"
   ]
  },
  {
   "cell_type": "code",
   "execution_count": 20,
   "id": "908a3299-87a0-4aaf-ad94-1559f1c30828",
   "metadata": {
    "tags": []
   },
   "outputs": [
    {
     "name": "stdout",
     "output_type": "stream",
     "text": [
      "[1] azul roxo roxo rosa azul rosa\n",
      "Levels: azul rosa roxo\n",
      "[1] 3\n"
     ]
    }
   ],
   "source": [
    "# Example\n",
    "cores  <- c ('azul', 'roxo', 'roxo', 'rosa','azul','rosa')\n",
    "factor_cores  <- factor (cores)\n",
    "print (factor_cores)\n",
    "print (nlevels(factor_cores))"
   ]
  },
  {
   "cell_type": "markdown",
   "id": "c6435246-344f-40bb-8270-5bc57608682b",
   "metadata": {},
   "source": [
    "## Data frames\n",
    "Can contain different modes of data"
   ]
  },
  {
   "cell_type": "code",
   "execution_count": 28,
   "id": "d9db7fe4-a3ee-4294-999c-2755c4948d34",
   "metadata": {
    "tags": []
   },
   "outputs": [
    {
     "name": "stdout",
     "output_type": "stream",
     "text": [
      "   flores  cores associação\n",
      "1 jacinto   roxo     apollo\n",
      "2  jasmim branco    alladin\n",
      "3  peonia   rosa        XIX\n"
     ]
    }
   ],
   "source": [
    "DF <- data.frame (\n",
    "    flores = c ('jacinto', 'jasmim', 'peonia'),\n",
    "    cores = c ('roxo', 'branco', 'rosa'),\n",
    "    associação = c ('apollo', 'alladin', 'XIX'))\n",
    "print (DF)"
   ]
  },
  {
   "cell_type": "code",
   "execution_count": 25,
   "id": "fc958edb-ef6c-4cf6-8b71-9fc0f92fb1fb",
   "metadata": {
    "tags": []
   },
   "outputs": [
    {
     "name": "stdout",
     "output_type": "stream",
     "text": [
      "[1] \"DF\"           \"M\"            \"cores\"        \"deuses\"       \"factor_cores\"\n",
      "[6] \"list1\"       \n"
     ]
    }
   ],
   "source": [
    "print(ls())"
   ]
  },
  {
   "cell_type": "code",
   "execution_count": 26,
   "id": "47f1ea96-6d36-4b04-a16b-9028b9e129d5",
   "metadata": {
    "tags": []
   },
   "outputs": [],
   "source": [
    "rm (DF)"
   ]
  },
  {
   "cell_type": "code",
   "execution_count": 29,
   "id": "1f7b1949-50a3-4cf7-8fd8-cf49a5976ba9",
   "metadata": {
    "tags": []
   },
   "outputs": [
    {
     "name": "stdout",
     "output_type": "stream",
     "text": [
      "[1] \"DF\"           \"M\"            \"cores\"        \"deuses\"       \"factor_cores\"\n",
      "[6] \"list1\"       \n"
     ]
    }
   ],
   "source": [
    "print(ls())"
   ]
  }
 ],
 "metadata": {
  "kernelspec": {
   "display_name": "R 4.2 (smallrna)",
   "language": "R",
   "name": "ir42"
  },
  "language_info": {
   "codemirror_mode": "r",
   "file_extension": ".r",
   "mimetype": "text/x-r-source",
   "name": "R",
   "pygments_lexer": "r",
   "version": "4.2.0"
  }
 },
 "nbformat": 4,
 "nbformat_minor": 5
}
