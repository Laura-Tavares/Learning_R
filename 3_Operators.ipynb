{
 "cells": [
  {
   "cell_type": "markdown",
   "id": "fa834a4a-cdd2-4c74-89c1-4b79b32a20a0",
   "metadata": {},
   "source": [
    "# Operators\n",
    "### An operator is a symbol that tells the compiler to perform specific mathematical or logical manipulations."
   ]
  },
  {
   "cell_type": "markdown",
   "id": "6ddacd26-eb60-4ad0-a887-b9b31449b5a4",
   "metadata": {},
   "source": [
    "## Types of operators\n",
    "- #### Arithmetic Operators\n",
    "- #### Relational Operators\n",
    "- #### Logical Operators\n",
    "- #### Assignment Operators\n",
    "- #### Miscellaneous Operators"
   ]
  },
  {
   "cell_type": "markdown",
   "id": "99f9f03a-a53e-45d4-a23a-73105bb875a3",
   "metadata": {},
   "source": [
    "### Arithmetic Operators\n",
    " - Addition\n",
    " - Subtraction\n",
    " - Multiplication\n",
    " - Division\n",
    " - Exponent\n",
    " - Modulus (Remainder from division)\n",
    " - Integer Division"
   ]
  },
  {
   "cell_type": "code",
   "execution_count": 15,
   "id": "81d2f249-9593-4973-8293-a9e8102f7237",
   "metadata": {
    "tags": []
   },
   "outputs": [
    {
     "name": "stdout",
     "output_type": "stream",
     "text": [
      "[1] 6+0i 0+8i 7+0i\n"
     ]
    }
   ],
   "source": [
    "# Addition\n",
    "v  <- c (2, 6i, 4)\n",
    "l  <- c (4, 2i, 3)\n",
    "print (v+l)"
   ]
  },
  {
   "cell_type": "markdown",
   "id": "80386c97-adde-47a2-b32e-ccd0760609f1",
   "metadata": {},
   "source": [
    "**If the vectors are of different lengths, the shorter vector will be recycled to match the length of the longer vector.**"
   ]
  },
  {
   "cell_type": "markdown",
   "id": "0cccaa79-5ede-46a8-81ad-34b6a2986018",
   "metadata": {},
   "source": [
    "![image](https://datascienceparichay.com/wp-content/uploads/2022/04/R-add-two-vectors-thumbnail.png)"
   ]
  },
  {
   "cell_type": "code",
   "execution_count": 6,
   "id": "00dfb1f0-1ac5-4a99-bbb2-22057e0c72cc",
   "metadata": {
    "tags": []
   },
   "outputs": [
    {
     "name": "stderr",
     "output_type": "stream",
     "text": [
      "Warning message in v + l:\n",
      "“longer object length is not a multiple of shorter object length”\n"
     ]
    },
    {
     "name": "stdout",
     "output_type": "stream",
     "text": [
      "[1]  6+0i  0+8i  7+0i 13+0i  2+2i\n"
     ]
    }
   ],
   "source": [
    "# Example of adding with vectors of different lenght\n",
    "v  <- c (2, 6i, 4, 9, 2)\n",
    "l  <- c (4, 2i, 3)\n",
    "print (v+l)"
   ]
  },
  {
   "cell_type": "code",
   "execution_count": 9,
   "id": "db4dab0d-6ae1-4004-9973-78bbcf384df0",
   "metadata": {
    "tags": []
   },
   "outputs": [
    {
     "name": "stdout",
     "output_type": "stream",
     "text": [
      "[1] -5  1  2\n"
     ]
    }
   ],
   "source": [
    "# Subtraction\n",
    "l  <- c (4,6,8)\n",
    "m  <- c (9,5,6)\n",
    "print (l-m)"
   ]
  },
  {
   "cell_type": "code",
   "execution_count": 11,
   "id": "a7472912-8250-4964-84c7-2fa8ca313e2a",
   "metadata": {
    "tags": []
   },
   "outputs": [
    {
     "name": "stdout",
     "output_type": "stream",
     "text": [
      "[1] 12 12\n"
     ]
    }
   ],
   "source": [
    "# Multiplication\n",
    "a  <- c (3, 2)\n",
    "b  <- c (4,6)\n",
    "print (a*b)"
   ]
  },
  {
   "cell_type": "code",
   "execution_count": 12,
   "id": "803c15fc-d1a9-4e9b-88f0-3e2d71748b17",
   "metadata": {
    "tags": []
   },
   "outputs": [
    {
     "name": "stdout",
     "output_type": "stream",
     "text": [
      "[1] 0.250000 1.833333 1.500000\n"
     ]
    }
   ],
   "source": [
    "# Division\n",
    "v <- c( 2,5.5,6)\n",
    "t <- c(8, 3, 4)\n",
    "print(v/t)"
   ]
  },
  {
   "cell_type": "code",
   "execution_count": 13,
   "id": "ebe5e810-7764-41c8-b1eb-b14930e3fb7f",
   "metadata": {
    "tags": []
   },
   "outputs": [
    {
     "name": "stdout",
     "output_type": "stream",
     "text": [
      "[1] 6\n"
     ]
    }
   ],
   "source": [
    "# Exponent\n",
    "l  <-  (2)\n",
    "t  <- (3)\n",
    "print (l*t)"
   ]
  },
  {
   "cell_type": "markdown",
   "id": "073fde76-8224-4e8f-ac0b-bd53239d5d28",
   "metadata": {},
   "source": [
    "### Relational operators\n",
    "\n",
    "#### Greater than\n",
    "3 > 2\n",
    "#### Less than\n",
    "3 < 2\n",
    "#### Equal to\n",
    "3 == 2\n",
    "#### Not equal to\n",
    "3 != 2\n",
    "#### Greater than or equal to\n",
    "3 >= 2\n",
    "#### Less than or equal to\n",
    "3 <= 2"
   ]
  },
  {
   "cell_type": "markdown",
   "id": "f8d3d9da-8556-41ac-b87c-d68ab8fcc797",
   "metadata": {},
   "source": [
    "### Logical operators\n",
    "*All numbers greater than 1 are considered as logical value **TRUE***\n",
    "\n",
    "- AND (&)\n",
    "- OR (|)\n",
    "- NOT (!)"
   ]
  },
  {
   "cell_type": "markdown",
   "id": "b9a05c9a-b090-4c48-8a0b-d9b4d5d0bb42",
   "metadata": {},
   "source": [
    "*The logical operator && and || considers only the first element of the vectors and give a vector of single element as output*\n",
    "\n",
    "- **&&** Called Logical AND operator\n",
    "Takes first element of both the vectors and gives the TRUE only if both are TRUE\n",
    "\n",
    "- **||** Called Logical OR operator\n",
    "Takes first element of both the vectors and gives the TRUE if one of them is TRUE"
   ]
  },
  {
   "cell_type": "markdown",
   "id": "c6adc1af-53b5-4b30-9902-04742c99e033",
   "metadata": {},
   "source": [
    "### Assignment Operators\n",
    "*These operators are used to assign values to vectors*\n",
    "\n",
    "- #### Called Left Assignment\n",
    "\n",
    "**<−**   \n",
    "**=**   \n",
    "**<<−**\n",
    "\n",
    "- #### Called Right Assignment\n",
    "\n",
    "**->**     \n",
    "**->>**"
   ]
  },
  {
   "cell_type": "markdown",
   "id": "02746623-fe15-424b-899e-1f4f0bf61c04",
   "metadata": {
    "tags": []
   },
   "source": [
    "### Miscellanous operators\n",
    "These operators are used to manipulate data:\n",
    "\n",
    "- **:**\tCreates a series of numbers in a sequence\n",
    "- **%in%**\tFind out if an element belongs to a vector\n",
    "- **%*%**\tMatrix Multiplication"
   ]
  },
  {
   "cell_type": "code",
   "execution_count": 16,
   "id": "631c20b9-56d6-44b7-a5e5-22f0d3f07ff9",
   "metadata": {
    "tags": []
   },
   "outputs": [
    {
     "name": "stdout",
     "output_type": "stream",
     "text": [
      "[1]  6  7  8  9 10 11 12\n"
     ]
    }
   ],
   "source": [
    "# Example for :\n",
    "\n",
    "l <- (6:12)\n",
    "print (l)"
   ]
  },
  {
   "cell_type": "code",
   "execution_count": 17,
   "id": "4114b42b-740e-4ce3-b976-132cc981e0d2",
   "metadata": {
    "tags": []
   },
   "outputs": [
    {
     "name": "stdout",
     "output_type": "stream",
     "text": [
      "[1] TRUE\n",
      "[1] FALSE\n"
     ]
    }
   ],
   "source": [
    "# Example for %in%\n",
    "\n",
    "l1  <- 6\n",
    "l2  <- 2\n",
    "l  <- (6:12)\n",
    "print (l1 %in% l)\n",
    "print (l2 %in% l)"
   ]
  },
  {
   "cell_type": "markdown",
   "id": "376bca16-f9d1-407f-ab71-efbc12c6e4c3",
   "metadata": {},
   "source": [
    "#### Example for %*%\n",
    "\n",
    "This operator is used to multiply a matrix with its transpose\n",
    "\n",
    "The transpose of a matrix is an operator which flips a matrix over its diagonal; that is, it switches the row and column indices of the matrix A by producing another matrix, often denoted by AT\n",
    "\n",
    "![image](https://static.todamateria.com.br/upload/ma/tr/matriztransposta7.jpg?auto_optimize=low)"
   ]
  },
  {
   "cell_type": "code",
   "execution_count": 18,
   "id": "3ec9b463-f69c-460f-9426-dbef323dfcfa",
   "metadata": {
    "tags": []
   },
   "outputs": [
    {
     "name": "stdout",
     "output_type": "stream",
     "text": [
      "     [,1] [,2]\n",
      "[1,]   65   82\n",
      "[2,]   82  117\n"
     ]
    }
   ],
   "source": [
    "M = matrix( c(2,6,5,1,10,4), nrow = 2,ncol = 3,byrow = TRUE)\n",
    "t = M %*% t(M)\n",
    "print(t)"
   ]
  },
  {
   "cell_type": "code",
   "execution_count": 24,
   "id": "9a46879b-d254-47d8-ba71-b2b4df2c7794",
   "metadata": {
    "tags": []
   },
   "outputs": [
    {
     "name": "stdout",
     "output_type": "stream",
     "text": [
      "     [,1] [,2]\n",
      "[1,]    2    6\n",
      "[2,]    5    1\n",
      "[3,]   10    4\n",
      "     [,1] [,2] [,3]\n",
      "[1,]    2    5   10\n",
      "[2,]    6    1    4\n"
     ]
    }
   ],
   "source": [
    "### Explaning\n",
    "\n",
    "# Original matrix\n",
    "\n",
    "M = matrix( c(2,6,5,1,10,4), nrow = 3,ncol = 2,byrow = TRUE)\n",
    "print (M)\n",
    "\n",
    "# Transpose matrix\n",
    "T = matrix( c(2,5,10,6,1,4), nrow = 2,ncol = 3,byrow = TRUE)\n",
    "print (T)"
   ]
  },
  {
   "cell_type": "code",
   "execution_count": 25,
   "id": "971b6d40-a1d7-4b31-a6f7-03ad4f4341f2",
   "metadata": {
    "tags": []
   },
   "outputs": [],
   "source": [
    "# With the %*% command, the matrix will be multiplied with transpose matrix"
   ]
  }
 ],
 "metadata": {
  "kernelspec": {
   "display_name": "R 4.2 (smallrna)",
   "language": "R",
   "name": "ir42"
  },
  "language_info": {
   "codemirror_mode": "r",
   "file_extension": ".r",
   "mimetype": "text/x-r-source",
   "name": "R",
   "pygments_lexer": "r",
   "version": "4.2.0"
  }
 },
 "nbformat": 4,
 "nbformat_minor": 5
}
