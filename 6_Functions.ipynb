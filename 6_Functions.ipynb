{
 "cells": [
  {
   "cell_type": "markdown",
   "id": "21e8018e-56e6-4cb3-b760-10cc6b4e1a39",
   "metadata": {},
   "source": [
    "# Functions\n",
    "\n",
    "## Function components\n",
    "\n",
    "##### ![image](https://www.learnbyexample.org/wp-content/uploads/r/r-function-syntax.png)\n",
    "\n",
    "- **Function Name** \n",
    "This is the actual name of the function. It is stored in R environment as an object with this name.\n",
    "\n",
    "- **Arguments** \n",
    "An argument is a placeholder. When a function is invoked, you pass a value to the argument. Arguments are optional; that is, a function may contain no arguments. Also arguments can have default values.\n",
    "\n",
    "- **Function Body** \n",
    "The function body contains a collection of statements that defines what the function does.\n",
    "\n",
    "- **Return Value** \n",
    "The return value of a function is the last expression in the function body to be evaluated.\n",
    "\n",
    "\n",
    "## Link to functions\n",
    "[Ref card of built in functions](https://cran.r-project.org/doc/contrib/Short-refcard.pdf)"
   ]
  },
  {
   "cell_type": "code",
   "execution_count": 10,
   "id": "a1950e77-809a-4084-9483-d562de5f9a96",
   "metadata": {
    "tags": []
   },
   "outputs": [
    {
     "name": "stdout",
     "output_type": "stream",
     "text": [
      "[1] 66 67 68 69 70\n",
      "[1] 7.5\n",
      "[1] 55\n"
     ]
    }
   ],
   "source": [
    "# Sequence \n",
    "print(seq(66,70))\n",
    "\n",
    "# Mean\n",
    "print(mean(5:10))\n",
    "\n",
    "# Sum\n",
    "print(sum(1:10))"
   ]
  },
  {
   "cell_type": "code",
   "execution_count": 11,
   "id": "370ac195-2a95-4e5c-b0f6-877b7dda642a",
   "metadata": {
    "tags": []
   },
   "outputs": [
    {
     "name": "stdout",
     "output_type": "stream",
     "text": [
      "[1] 1\n",
      "[1] 4\n",
      "[1] 9\n",
      "[1] 16\n",
      "[1] 25\n",
      "[1] 36\n"
     ]
    }
   ],
   "source": [
    "# Create a function to print squares of numbers in sequence\n",
    "new.function <- function(a) {\n",
    "   for(i in 1:a) {\n",
    "      b <- i^2\n",
    "      print(b)\n",
    "   }\n",
    "}\n",
    "\n",
    "# Call the function new.function supplying 6 as an argument\n",
    "new.function(6)"
   ]
  },
  {
   "cell_type": "code",
   "execution_count": 15,
   "id": "7c472fff-5c7d-4f8c-b98d-e32706d3ca63",
   "metadata": {
    "tags": []
   },
   "outputs": [
    {
     "name": "stdout",
     "output_type": "stream",
     "text": [
      "[1] 0.5\n",
      "[1] 1\n",
      "[1] 1.5\n",
      "[1] 2\n",
      "[1] 2.5\n",
      "[1] 3\n",
      "[1] 3.5\n",
      "[1] 4\n",
      "[1] 4.5\n",
      "[1] 5\n"
     ]
    }
   ],
   "source": [
    "new.function <- function(a) {\n",
    "   for(i in 1:a) {\n",
    "      b <- i/2\n",
    "      print(b)\n",
    "   }\n",
    "}\n",
    "\n",
    "new.function(10)"
   ]
  },
  {
   "cell_type": "code",
   "execution_count": 19,
   "id": "e6c4d653-4589-4e35-957e-87eef14762d2",
   "metadata": {
    "tags": []
   },
   "outputs": [
    {
     "name": "stdout",
     "output_type": "stream",
     "text": [
      "[1] -5\n",
      "[1] -4\n",
      "[1] -3\n",
      "[1] -2\n",
      "[1] -1\n",
      "[1] 0\n"
     ]
    }
   ],
   "source": [
    "# Calling a function without an argument\n",
    "\n",
    "laura.function  <- function() {\n",
    "    for (i in 0:5) {\n",
    "        print(i-5)\n",
    "    }\n",
    "}\n",
    "\n",
    "laura.function()"
   ]
  },
  {
   "cell_type": "code",
   "execution_count": 20,
   "id": "5145e241-a587-48de-bbbe-d156f52e8a6e",
   "metadata": {
    "tags": []
   },
   "outputs": [
    {
     "name": "stdout",
     "output_type": "stream",
     "text": [
      "[1] 61\n"
     ]
    }
   ],
   "source": [
    "# Calling a function with arguments\n",
    "\n",
    "expression.function  <- function (a,b,c,d) {\n",
    "    result  <- a^b + c*d\n",
    "    print(result)\n",
    "}\n",
    "\n",
    "expression.function (2,0,6,10)"
   ]
  },
  {
   "cell_type": "code",
   "execution_count": 22,
   "id": "a282ef0b-e28d-4846-a4a4-f36095aadd1e",
   "metadata": {
    "tags": []
   },
   "outputs": [
    {
     "name": "stdout",
     "output_type": "stream",
     "text": [
      "[1] 6\n",
      "[1] 3\n"
     ]
    }
   ],
   "source": [
    "# Calling a function with default arguments\n",
    "\n",
    "default.function  <- function (a=10,b=20,c=5) {\n",
    "    result  <- a - b/c\n",
    "    print (result)\n",
    "}\n",
    "\n",
    "default.function ()\n",
    "\n",
    "default.function(5,4,2)"
   ]
  },
  {
   "cell_type": "code",
   "execution_count": 28,
   "id": "5b69df87-5818-4da5-8b47-a529db70124f",
   "metadata": {
    "tags": []
   },
   "outputs": [
    {
     "name": "stdout",
     "output_type": "stream",
     "text": [
      "[1] 2\n",
      "[1] 7\n"
     ]
    }
   ],
   "source": [
    "# Lazy evaluation of function\n",
    "\n",
    "creating.function  <- function (a,b,c) {\n",
    "    print (a/b)\n",
    "    print (c)\n",
    "}\n",
    "\n",
    "creating.function(10,5,7)"
   ]
  },
  {
   "cell_type": "markdown",
   "id": "9e89a9ab-8457-42be-bfe4-f47c375cf8c5",
   "metadata": {},
   "source": [
    "## Some R functions\n",
    "\n",
    "**ls()**\n",
    "List of the elements of the programming environment\n",
    "\n",
    "**rm(x)**\n",
    "Delete the object x from your programming environment\n",
    "\n",
    "**dir()**\n",
    "List the elements of the work folder.\n",
    "If the folder path is mentioned as a parameter, the function will return the elements of this directory.\n",
    "\n",
    "**files()**\n",
    "List the files of the folder. If the parameter isn't completed, the function will return the elements of the current directory.\n",
    "\n",
    "**getwd()**\n",
    "Return the path of the work directory.\n",
    "\n",
    "**setwd()**\n",
    "Set the path of the work directory.\n",
    "\n",
    "**paste(x, y, z, ...)**\n",
    "Concatenate the elements mentioned as parameters and return a character string.\n",
    "\n",
    "**substr(x, start, stop)**\n",
    "Extract a character string from the x string and take into account the start and the end of the extraction.\n",
    "\n",
    "**strsplit(x, split)**\n",
    "Split a character string in terms of the seperator on the split parameter.\n",
    "\n",
    "**length(x)**\n",
    "Return the number of elements that contain the object\n",
    "\n",
    "**nrow(x)**\n",
    "Return the number of lines of the object.\n",
    "\n",
    "**ncol(x)**\n",
    "Return the number column the object\n",
    "\n",
    "**class(x)**\n",
    "Return the class of the object (list, data frame, integer...)\n",
    "\n",
    "**na(x), is.null(x)...**\n",
    "Test the value of an object and return TRUE is the object is equal to NA or if the object is NULL\n",
    "\n",
    "**exists(x)**\n",
    "Test if an object exists. If the object exists, the function returns TRUE, if not, FALSE."
   ]
  }
 ],
 "metadata": {
  "kernelspec": {
   "display_name": "R 4.2 (smallrna)",
   "language": "R",
   "name": "ir42"
  },
  "language_info": {
   "codemirror_mode": "r",
   "file_extension": ".r",
   "mimetype": "text/x-r-source",
   "name": "R",
   "pygments_lexer": "r",
   "version": "4.2.0"
  }
 },
 "nbformat": 4,
 "nbformat_minor": 5
}
