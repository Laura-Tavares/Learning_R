{
 "cells": [
  {
   "cell_type": "code",
   "execution_count": 2,
   "id": "6bce82b7-a6f3-4f4a-a8dc-9de864a3cdbc",
   "metadata": {
    "tags": []
   },
   "outputs": [
    {
     "name": "stdout",
     "output_type": "stream",
     "text": [
      "[1] \"Hello, traveler! How are you?\"\n",
      "[1] \"Hello,-traveler!-How are you?\"\n",
      "[1] \"Hello,traveler!How are you?\"\n"
     ]
    }
   ],
   "source": [
    "# String manipulation\n",
    "\n",
    "a <- \"Hello,\"\n",
    "b <- \"traveler!\"\n",
    "c  <- \"How are you?\"\n",
    "\n",
    "print(paste(a,b,c))\n",
    "\n",
    "print(paste(a,b,c, sep=\"-\"))\n",
    "\n",
    "print(paste(a,b,c, sep=\"\", collapse=\"\"))"
   ]
  },
  {
   "cell_type": "code",
   "execution_count": 4,
   "id": "809de458-0817-4e57-a32f-a17bbd4b276d",
   "metadata": {
    "tags": []
   },
   "outputs": [
    {
     "name": "stdout",
     "output_type": "stream",
     "text": [
      "[1] \"12.3457\"\n",
      "[1] \"6.500000e+01\" \"1.700000e+00\" \"1.314521e+01\"\n",
      "[1] \"666.00000\"\n",
      "[1] \"8\"\n"
     ]
    }
   ],
   "source": [
    "# Total number of digits displayed (last digit rounded off)\n",
    "result <- format(12.3456789, digits = 6)\n",
    "print(result)\n",
    "\n",
    "# Scientific notation\n",
    "result <- format(c(65, 1.7, 13.14521), scientific = TRUE)\n",
    "print(result)\n",
    "\n",
    "# The minimum number of digits to the right of the decimal point\n",
    "result <- format(666, nsmall = 5)\n",
    "print(result)\n",
    "\n",
    "# Format treats everything as a string.\n",
    "result <- format(8)\n",
    "print(result)"
   ]
  },
  {
   "cell_type": "code",
   "execution_count": 6,
   "id": "a70d9a7a-48ec-49a1-a410-577e6c890286",
   "metadata": {
    "tags": []
   },
   "outputs": [
    {
     "name": "stdout",
     "output_type": "stream",
     "text": [
      "[1] 36\n"
     ]
    }
   ],
   "source": [
    "# Counting number of character in a string\n",
    "\n",
    "v  <- nchar(\"Hello there, traveler. We meet again\")\n",
    "print(v)"
   ]
  },
  {
   "cell_type": "code",
   "execution_count": 8,
   "id": "c5dc1216-44a9-46d3-be43-c05463311158",
   "metadata": {
    "tags": []
   },
   "outputs": [
    {
     "name": "stdout",
     "output_type": "stream",
     "text": [
      "[1] \"ALWAYS AND FOREVER\"\n",
      "[1] \"always and forever\"\n"
     ]
    }
   ],
   "source": [
    "#Changing the case - toupper() & tolower() functions\n",
    "\n",
    "# Changing to upper case\n",
    "result  <- toupper (\"Always And Forever\")\n",
    "print(result)\n",
    "\n",
    "result  <- tolower (\"Always And Forever\")\n",
    "print(result)"
   ]
  },
  {
   "cell_type": "code",
   "execution_count": 9,
   "id": "250df952-47d9-40d6-b014-7e3a718f6103",
   "metadata": {
    "tags": []
   },
   "outputs": [
    {
     "name": "stdout",
     "output_type": "stream",
     "text": [
      "[1] \"lele\"\n"
     ]
    }
   ],
   "source": [
    "# Extracting parts of a string\n",
    "\n",
    "result  <- substring (\"paralelepípedo\",5,8)\n",
    "print(result)"
   ]
  }
 ],
 "metadata": {
  "kernelspec": {
   "display_name": "R 4.2 (smallrna)",
   "language": "R",
   "name": "ir42"
  },
  "language_info": {
   "codemirror_mode": "r",
   "file_extension": ".r",
   "mimetype": "text/x-r-source",
   "name": "R",
   "pygments_lexer": "r",
   "version": "4.2.0"
  }
 },
 "nbformat": 4,
 "nbformat_minor": 5
}
